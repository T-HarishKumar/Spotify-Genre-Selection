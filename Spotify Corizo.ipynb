{
 "cells": [
  {
   "cell_type": "code",
   "execution_count": null,
   "id": "8ddac574-5f49-4d52-9ef9-3a0df74a7d86",
   "metadata": {},
   "outputs": [],
   "source": [
    "import pandas as pd\n",
    "from sklearn.preprocessing import LabelEncoder, StandardScaler\n",
    "from sklearn.model_selection import train_test_split\n",
    "from sklearn.cluster import KMeans\n",
    "from sklearn.ensemble import RandomForestClassifier\n",
    "from sklearn.metrics import accuracy_score, precision_score, recall_score, f1_score\n",
    "import matplotlib.pyplot as plt\n",
    "import seaborn as sns"
   ]
  },
  {
   "cell_type": "code",
   "execution_count": null,
   "id": "e4e37657-b9ea-42db-913a-09aa1efd5a93",
   "metadata": {},
   "outputs": [],
   "source": [
    "data = pd.read_csv('D:/Movies/spotify dataset.csv')\n",
    "print(\"Missing values summary:\\n\", data.isnull().sum())"
   ]
  },
  {
   "cell_type": "code",
   "execution_count": null,
   "id": "6adf00be-8748-426e-ace7-34a8449016e8",
   "metadata": {},
   "outputs": [],
   "source": [
    "for col in data.columns:\n",
    "    if data[col].dtype == 'object':  \n",
    "        data[col] = data[col].fillna(data[col].mode()[0])  \n",
    "    elif data[col].dtype == 'float64':  \n",
    "        data[col] = data[col].fillna(data[col].mean())  \n",
    "        pass"
   ]
  },
  {
   "cell_type": "code",
   "execution_count": null,
   "id": "ff7020f2-16a1-49ac-be4d-0d46a6ebaf7d",
   "metadata": {},
   "outputs": [],
   "source": [
    "categorical_features = [col for col in data.columns if data[col].dtype == 'object']\n",
    "label_encoder = LabelEncoder()\n",
    "for feature in categorical_features:\n",
    "    data[feature] = label_encoder.fit_transform(data[feature])\n",
    "numerical_features = [col for col in data.columns if col not in categorical_features and col != 'playlist_genre']\n",
    "scaler = StandardScaler()\n",
    "data[numerical_features] = scaler.fit_transform(data[numerical_features])\n",
    "data.hist(figsize=(10, 6))"
   ]
  },
  {
   "cell_type": "code",
   "execution_count": null,
   "id": "89af606e-1973-4f17-a320-cc12fa556afb",
   "metadata": {},
   "outputs": [],
   "source": [
    "sns.boxplot(x=\"playlist_genre\", y=\"danceability\", showmeans=True, data=data) \n",
    "corr = data.corr()\n",
    "sns.heatmap(corr, annot=True)\n",
    "plt.show()\n",
    "kmeans = KMeans(n_clusters=5)\n",
    "kmeans.fit(data.drop('playlist_genre', axis=1)) \n",
    "data['cluster'] = kmeans.labels_\n",
    "sns.scatterplot(x=\"danceability\", y=\"energy\", hue=\"cluster\", data=data)\n",
    "plt.show() "
   ]
  },
  {
   "cell_type": "code",
   "execution_count": null,
   "id": "6735b5ad-9081-44ad-ae53-eb39f59e40fe",
   "metadata": {},
   "outputs": [],
   "source": [
    "X = data.drop('playlist_genre', axis=1)\n",
    "y = data['playlist_genre']\n",
    "X_train, X_test, y_train, y_test = train_test_split(X, y, test_size=0.2, random_state=42)\n",
    "model = RandomForestClassifier()\n",
    "model.fit(X_train, y_train)\n",
    "y_pred = model.predict(X_test)"
   ]
  },
  {
   "cell_type": "code",
   "execution_count": null,
   "id": "8e0b1d96-1005-4daa-a630-b85d08e1a230",
   "metadata": {},
   "outputs": [],
   "source": [
    "accuracy = accuracy_score(y_test, y_pred)\n",
    "precision = precision_score(y_test, y_pred, average='weighted')\n",
    "recall = recall_score(y_test, y_pred, average='weighted')\n",
    "f1 = f1_score(y_test, y_pred, average='weighted')\n",
    "print(f\"\\nModel Performance:\")\n",
    "print(f\"Accuracy: {accuracy:.4f}\")\n",
    "print(f\"Precision: {precision:.4f}\")\n",
    "print(f\"Recall: {recall:.4f}\")\n",
    "print(f\"F1-Score: {f1:.4f}\")"
   ]
  }
 ],
 "metadata": {
  "kernelspec": {
   "display_name": "Python 3 (ipykernel)",
   "language": "python",
   "name": "python3"
  },
  "language_info": {
   "codemirror_mode": {
    "name": "ipython",
    "version": 3
   },
   "file_extension": ".py",
   "mimetype": "text/x-python",
   "name": "python",
   "nbconvert_exporter": "python",
   "pygments_lexer": "ipython3",
   "version": "3.12.4"
  }
 },
 "nbformat": 4,
 "nbformat_minor": 5
}
